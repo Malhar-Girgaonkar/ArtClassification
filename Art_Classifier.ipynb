{
  "cells": [
    {
      "cell_type": "markdown",
      "metadata": {
        "id": "view-in-github",
        "colab_type": "text"
      },
      "source": [
        "<a href=\"https://colab.research.google.com/github/Malhar-Girgaonkar/ArtClassification/blob/main/Art_Classifier.ipynb\" target=\"_parent\"><img src=\"https://colab.research.google.com/assets/colab-badge.svg\" alt=\"Open In Colab\"/></a>"
      ]
    },
    {
      "cell_type": "code",
      "execution_count": null,
      "metadata": {
        "id": "QThPwF2mlGwj"
      },
      "outputs": [],
      "source": [
        "#!pip install --upgrade pip\n",
        "#!pip install --upgrade setuptools\n",
        "#!pip install --upgrade wheel\n",
        "#!pip install  opencv-python matplotlib\n",
        "#!pip install tensorflow-gpu\n",
        "#!pip install --upgrade wheel"
      ]
    },
    {
      "cell_type": "code",
      "execution_count": 1,
      "metadata": {
        "id": "4xLavhUZiYA4"
      },
      "outputs": [],
      "source": [
        "#Import modules\n",
        "\n",
        "import shutil\n",
        "import os\n",
        "import zipfile\n",
        "import random\n",
        "import shutil\n",
        "import warnings"
      ]
    },
    {
      "cell_type": "code",
      "execution_count": null,
      "metadata": {
        "id": "dOc_-nXViHWn"
      },
      "outputs": [],
      "source": [
        "#extract zip files it took me 8m 20s\n",
        "\n",
        "\n",
        "# Replace 'path_to_zip_file' and 'extracted_folder' with your actual file and folder names\n",
        "with zipfile.ZipFile('/content/drive/MyDrive/Art Classifier Dataset/archive.zip', 'r') as zip_ref:\n",
        "    zip_ref.extractall('/content/extracted_folder')"
      ]
    },
    {
      "cell_type": "code",
      "execution_count": null,
      "metadata": {
        "id": "AdTW431Baypa"
      },
      "outputs": [],
      "source": [
        "#Code to delete dataset\n",
        "\n",
        "folder_to_delete = '/content/extracted_folder'\n",
        "shutil.rmtree(folder_to_delete)\n",
        "try:\n",
        "    os.listdir(folder_to_delete)\n",
        "    print(f\"The folder {folder_to_delete} was not deleted.\")\n",
        "except FileNotFoundError:\n",
        "    print(f\"The folder {folder_to_delete} has been successfully deleted.\")"
      ]
    },
    {
      "cell_type": "code",
      "execution_count": null,
      "metadata": {
        "id": "O2YXyUzahXF9"
      },
      "outputs": [],
      "source": [
        "#mounting google drive\n",
        "\n",
        "from google.colab import drive\n",
        "drive.mount('/content/drive')"
      ]
    },
    {
      "cell_type": "markdown",
      "metadata": {
        "id": "w3kEhmqrYPeL"
      },
      "source": [
        "Creating directories and Setting dataset"
      ]
    },
    {
      "cell_type": "code",
      "execution_count": null,
      "metadata": {
        "id": "hgJBhAcqtxt1"
      },
      "outputs": [],
      "source": [
        "\n",
        "warnings.filterwarnings('ignore')\n",
        "# Get all the paths\n",
        "data_dir_list = os.listdir('/content/drive/MyDrive/Art Classifier Dataset/Datasets')\n",
        "print(data_dir_list)\n",
        "path, dirs, files = next(os.walk(\"/content/drive/MyDrive/Art Classifier Dataset/Datasets\"))\n",
        "file_count = len(files)\n",
        "#print(file_count)"
      ]
    },
    {
      "cell_type": "code",
      "execution_count": null,
      "metadata": {
        "id": "6jxGMz_kvFAU"
      },
      "outputs": [],
      "source": [
        "# Make new base directory\n",
        "original_dataset_dir = '/content/drive/MyDrive/Art Classifier Dataset/Datasets'\n",
        "base_dir = '/content/drive/MyDrive/Art Classifier Dataset/Dataused'\n",
        "os.mkdir(base_dir)"
      ]
    },
    {
      "cell_type": "code",
      "execution_count": null,
      "metadata": {
        "id": "_o3K6-D3vtmD"
      },
      "outputs": [],
      "source": [
        "#create two folders (train and validation)\n",
        "train_dir = os.path.join(base_dir, 'train')\n",
        "os.mkdir(train_dir)\n",
        "\n",
        "validation_dir = os.path.join(base_dir, 'validation')\n",
        "os.mkdir(validation_dir)\n",
        "\n",
        "#Under train folder create 13 folders\n",
        "# ['Western_Medieval', 'Renaissance', 'Rococo', 'Realism', 'Expressionism',\n",
        "#'Japanese_Art', 'Symbolism', 'Neoclassicism', 'Primitivism', 'Romanticism',\n",
        "# 'Academic_Art', 'Baroque', 'Art_Nouveau']\n",
        "\n",
        "train_Academic_Art_dir = os.path.join(train_dir, 'Academic_Art')\n",
        "os.mkdir(train_Academic_Art_dir)\n",
        "\n",
        "train_Art_Nouveau_dir = os.path.join(train_dir, 'Art_Nouveau')\n",
        "os.mkdir(train_Art_Nouveau_dir)\n",
        "\n",
        "train_Baroque_dir = os.path.join(train_dir, 'Baroque')\n",
        "os.mkdir(train_Baroque_dir)\n",
        "\n",
        "train_Expressionism_dir = os.path.join(train_dir, 'Expressionism')\n",
        "os.mkdir(train_Expressionism_dir)\n",
        "\n",
        "train_Japanese_Art_dir = os.path.join(train_dir, 'Japanese_Art')\n",
        "os.mkdir(train_Japanese_Art_dir)\n",
        "\n",
        "train_Neoclassicism_dir = os.path.join(train_dir, 'Neoclassicism')\n",
        "os.mkdir(train_Neoclassicism_dir)\n",
        "\n",
        "train_Primitivism_dir = os.path.join(train_dir, 'Primitivism')\n",
        "os.mkdir(train_Primitivism_dir)\n",
        "\n",
        "train_Realism_dir = os.path.join(train_dir, 'Realism')\n",
        "os.mkdir(train_Realism_dir)\n",
        "\n",
        "train_Renaissance_dir = os.path.join(train_dir, 'Renaissance')\n",
        "os.mkdir(train_Renaissance_dir)\n",
        "\n",
        "train_Rococo_dir = os.path.join(train_dir, 'Rococo')\n",
        "os.mkdir(train_Rococo_dir)\n",
        "\n",
        "train_Romanticism_dir = os.path.join(train_dir, 'Romanticism')\n",
        "os.mkdir(train_Romanticism_dir)\n",
        "\n",
        "train_Symbolism_dir = os.path.join(train_dir, 'Symbolism')\n",
        "os.mkdir(train_Symbolism_dir)\n",
        "\n",
        "train_Western_Medieval_dir = os.path.join(train_dir, 'Western_Medieval')\n",
        "os.mkdir(train_Western_Medieval_dir)\n",
        "\n",
        "#Under validation folder create 13 folders\n",
        "# ['Western_Medieval', 'Renaissance', 'Rococo', 'Realism', 'Expressionism',\n",
        "#'Japanese_Art', 'Symbolism', 'Neoclassicism', 'Primitivism', 'Romanticism',\n",
        "# 'Academic_Art', 'Baroque', 'Art_Nouveau']\n",
        "\n",
        "validation_Academic_Art_dir = os.path.join(validation_dir, 'Academic_Art')\n",
        "os.mkdir(validation_Academic_Art_dir)\n",
        "\n",
        "validation_Art_Nouveau_dir = os.path.join(validation_dir, 'Art_Nouveau')\n",
        "os.mkdir(validation_Art_Nouveau_dir)\n",
        "\n",
        "validation_Baroque_dir = os.path.join(validation_dir, 'Baroque')\n",
        "os.mkdir(validation_Baroque_dir)\n",
        "\n",
        "validation_Expressionism_dir = os.path.join(validation_dir, 'Expressionism')\n",
        "os.mkdir(validation_Expressionism_dir)\n",
        "\n",
        "validation_Japanese_Art_dir = os.path.join(validation_dir, 'Japanese_Art')\n",
        "os.mkdir(validation_Japanese_Art_dir)\n",
        "\n",
        "validation_Neoclassicism_dir = os.path.join(validation_dir, 'Neoclassicism')\n",
        "os.mkdir(validation_Neoclassicism_dir)\n",
        "\n",
        "validation_Primitivism_dir = os.path.join(validation_dir, 'Primitivism')\n",
        "os.mkdir(validation_Primitivism_dir)\n",
        "\n",
        "validation_Realism_dir = os.path.join(validation_dir, 'Realism')\n",
        "os.mkdir(validation_Realism_dir )\n",
        "\n",
        "validation_Renaissance_dir = os.path.join(validation_dir, 'Renaissance')\n",
        "os.mkdir(validation_Renaissance_dir)\n",
        "\n",
        "validation_Rococo_dir = os.path.join(validation_dir, 'Rococo')\n",
        "os.mkdir(validation_Rococo_dir)\n",
        "\n",
        "train_Romanticism_dir = os.path.join(validation_dir, 'Romanticism')\n",
        "os.mkdir(train_Romanticism_dir)\n",
        "\n",
        "train_Symbolism_dir = os.path.join(validation_dir, 'Symbolism')\n",
        "os.mkdir(train_Symbolism_dir)\n",
        "\n",
        "train_Western_Medieval_dir = os.path.join(validation_dir, 'Western_Medieval')\n",
        "os.mkdir(train_Western_Medieval_dir)\n"
      ]
    },
    {
      "cell_type": "code",
      "execution_count": null,
      "metadata": {
        "id": "H38M0l1_4eM7"
      },
      "outputs": [],
      "source": [
        "#Spliting dataset into training testing validation\n",
        "\n",
        "def split_data(SOURCE, TRAINING, VALIDATION, SPLIT_SIZE):\n",
        "    files = []\n",
        "    for filename in os.listdir(SOURCE):\n",
        "        file = SOURCE + filename\n",
        "        if os.path.getsize(file) > 0:\n",
        "            files.append(filename)\n",
        "        else:\n",
        "            print(filename + \" is zero length, so ignoring.\")\n",
        "\n",
        "    training_length = int(len(files) * SPLIT_SIZE)\n",
        "    valid_length = int(len(files) - training_length)\n",
        "    shuffled_set = random.sample(files, len(files))\n",
        "    training_set = shuffled_set[0:training_length]\n",
        "    valid_set = shuffled_set[training_length:]\n",
        "\n",
        "    for filename in training_set:\n",
        "        this_file = SOURCE + filename\n",
        "        destination = TRAINING + filename\n",
        "        shutil.copyfile(this_file, destination)\n",
        "\n",
        "    for filename in valid_set:\n",
        "        this_file = SOURCE + filename\n",
        "        destination = VALIDATION + filename\n",
        "        shutil.copyfile(this_file, destination)"
      ]
    },
    {
      "cell_type": "code",
      "execution_count": null,
      "metadata": {
        "id": "n6mPNLxs9JM6"
      },
      "outputs": [],
      "source": [
        "#List directories to be used in spliting\n",
        "\n",
        "Academic_Art_SOURCE_DIR = '/content/drive/MyDrive/Art Classifier Dataset/Datasets/Academic_Art/'\n",
        "TRAINING_Academic_Art_DIR = '/content/drive/MyDrive/Art Classifier Dataset/Dataused/train/Academic_Art/'\n",
        "VALID_Academic_Art_DIR = '/content/drive/MyDrive/Art Classifier Dataset/Dataused/validation/Academic_Art/'\n",
        "\n",
        "Art_Nouveau_SOURCE_DIR = '/content/drive/MyDrive/Art Classifier Dataset/Datasets/Art_Nouveau/'\n",
        "TRAINING_Art_Nouveau_DIR = '/content/drive/MyDrive/Art Classifier Dataset/Dataused/train/Art_Nouveau/'\n",
        "VALID_Art_Nouveau_DIR = '/content/drive/MyDrive/Art Classifier Dataset/Dataused/validation/Art_Nouveau/'\n",
        "\n",
        "Baroque_SOURCE_DIR = '/content/drive/MyDrive/Art Classifier Dataset/Datasets/Baroque/'\n",
        "TRAINING_Baroque_DIR = '/content/drive/MyDrive/Art Classifier Dataset/Dataused/train/Baroque/'\n",
        "VALID_Baroque_DIR = '/content/drive/MyDrive/Art Classifier Dataset/Dataused/validation/Baroque/'\n",
        "\n",
        "Expressionism_SOURCE_DIR = '/content/drive/MyDrive/Art Classifier Dataset/Datasets/Expressionism/'\n",
        "TRAINING_Expressionism_DIR = '/content/drive/MyDrive/Art Classifier Dataset/Dataused/train/Expressionism/'\n",
        "VALID_Expressionism_DIR = '/content/drive/MyDrive/Art Classifier Dataset/Dataused/validation/Expressionism/'\n",
        "\n",
        "Japanese_Art_SOURCE_DIR = '/content/drive/MyDrive/Art Classifier Dataset/Datasets/Japanese_Art/'\n",
        "TRAINING_Japanese_Art_DIR = '/content/drive/MyDrive/Art Classifier Dataset/Dataused/train/Japanese_Art/'\n",
        "VALID_Japanese_Art_DIR = '/content/drive/MyDrive/Art Classifier Dataset/Dataused/validation/Japanese_Art/'\n",
        "\n",
        "Neoclassicism_SOURCE_DIR = '/content/drive/MyDrive/Art Classifier Dataset/Datasets/Neoclassicism/'\n",
        "TRAINING_Neoclassicism_DIR = '/content/drive/MyDrive/Art Classifier Dataset/Dataused/train/Neoclassicism/'\n",
        "VALID_Neoclassicism_DIR = '/content/drive/MyDrive/Art Classifier Dataset/Dataused/validation/Neoclassicism/'\n",
        "\n",
        "Primitivism_SOURCE_DIR = '/content/drive/MyDrive/Art Classifier Dataset/Datasets/Primitivism/'\n",
        "TRAINING_Primitivism_DIR = '/content/drive/MyDrive/Art Classifier Dataset/Dataused/train/Primitivism/'\n",
        "VALID_Primitivism_DIR = '/content/drive/MyDrive/Art Classifier Dataset/Dataused/validation/Primitivism/'\n",
        "\n",
        "Realism_SOURCE_DIR = '/content/drive/MyDrive/Art Classifier Dataset/Datasets/Realism/'\n",
        "TRAINING_Realism_DIR = '/content/drive/MyDrive/Art Classifier Dataset/Dataused/train/Realism/'\n",
        "VALID_Realism_DIR = '/content/drive/MyDrive/Art Classifier Dataset/Dataused/validation/Realism/'\n",
        "\n",
        "Renaissance_SOURCE_DIR = '/content/drive/MyDrive/Art Classifier Dataset/Datasets/Renaissance/'\n",
        "TRAINING_Renaissance_DIR = '/content/drive/MyDrive/Art Classifier Dataset/Dataused/train/Renaissance/'\n",
        "VALID_Renaissance_DIR = '/content/drive/MyDrive/Art Classifier Dataset/Dataused/validation/Renaissance/'\n",
        "\n",
        "Rococo_SOURCE_DIR = '/content/drive/MyDrive/Art Classifier Dataset/Datasets/Rococo/'\n",
        "TRAINING_Rococo_DIR = '/content/drive/MyDrive/Art Classifier Dataset/Dataused/train/Rococo/'\n",
        "VALID_Rococo_DIR = '/content/drive/MyDrive/Art Classifier Dataset/Dataused/validation/Rococo/'\n",
        "\n",
        "Romanticism_SOURCE_DIR = '/content/drive/MyDrive/Art Classifier Dataset/Datasets/Romanticism/'\n",
        "TRAINING_Romanticism_DIR = '/content/drive/MyDrive/Art Classifier Dataset/Dataused/train/Romanticism/'\n",
        "VALID_Romanticism_DIR = '/content/drive/MyDrive/Art Classifier Dataset/Dataused/validation/Romanticism/'\n",
        "\n",
        "Symbolism_SOURCE_DIR = '/content/drive/MyDrive/Art Classifier Dataset/Datasets/Symbolism/'\n",
        "TRAINING_Symbolism_DIR = '/content/drive/MyDrive/Art Classifier Dataset/Dataused/train/Symbolism/'\n",
        "VALID_Symbolism_DIR = '/content/drive/MyDrive/Art Classifier Dataset/Dataused/validation/Symbolism/'\n",
        "\n",
        "Western_Medieval_SOURCE_DIR = '/content/drive/MyDrive/Art Classifier Dataset/Datasets/Western_Medieval/'\n",
        "TRAINING_Western_Medieval_DIR = '/content/drive/MyDrive/Art Classifier Dataset/Dataused/train/Western_Medieval/'\n",
        "VALID_Western_Medieval_DIR = '/content/drive/MyDrive/Art Classifier Dataset/Dataused/validation/Western_Medieval/'\n"
      ]
    },
    {
      "cell_type": "code",
      "execution_count": null,
      "metadata": {
        "id": "vL1SEhl47UfL"
      },
      "outputs": [],
      "source": [
        "#Seting split of 80,20 for training,validation of size 21.6gb,5.4gb approx\n",
        "#it took me 48m 1s to run this script\n",
        "\n",
        "split_size = .85\n",
        "\n",
        "split_data(Academic_Art_SOURCE_DIR, TRAINING_Academic_Art_DIR, VALID_Academic_Art_DIR , split_size)\n",
        "\n",
        "split_data(Art_Nouveau_SOURCE_DIR, TRAINING_Art_Nouveau_DIR, VALID_Art_Nouveau_DIR , split_size)\n",
        "\n",
        "split_data(Baroque_SOURCE_DIR, TRAINING_Baroque_DIR, VALID_Baroque_DIR , split_size)\n",
        "\n",
        "split_data(Expressionism_SOURCE_DIR, TRAINING_Expressionism_DIR, VALID_Expressionism_DIR , split_size)\n",
        "\n",
        "split_data(Japanese_Art_SOURCE_DIR, TRAINING_Japanese_Art_DIR, VALID_Japanese_Art_DIR , split_size)\n",
        "\n",
        "split_data(Neoclassicism_SOURCE_DIR, TRAINING_Neoclassicism_DIR, VALID_Neoclassicism_DIR , split_size)\n",
        "\n",
        "split_data(Primitivism_SOURCE_DIR, TRAINING_Primitivism_DIR, VALID_Primitivism_DIR , split_size)\n",
        "\n",
        "split_data(Realism_SOURCE_DIR, TRAINING_Realism_DIR, VALID_Realism_DIR , split_size)\n",
        "\n",
        "split_data(Renaissance_SOURCE_DIR, TRAINING_Renaissance_DIR, VALID_Renaissance_DIR , split_size)\n",
        "\n",
        "split_data(Rococo_SOURCE_DIR, TRAINING_Rococo_DIR, VALID_Rococo_DIR , split_size)\n",
        "\n",
        "split_data(Romanticism_SOURCE_DIR, TRAINING_Romanticism_DIR, VALID_Romanticism_DIR , split_size)\n",
        "\n",
        "split_data(Symbolism_SOURCE_DIR, TRAINING_Symbolism_DIR, VALID_Symbolism_DIR , split_size)\n",
        "\n",
        "split_data(Western_Medieval_SOURCE_DIR, TRAINING_Western_Medieval_DIR, VALID_Western_Medieval_DIR , split_size)"
      ]
    },
    {
      "cell_type": "code",
      "execution_count": 16,
      "metadata": {
        "id": "KuSzmTjlU6hU",
        "colab": {
          "base_uri": "https://localhost:8080/",
          "height": 806
        },
        "outputId": "61cebe5f-3cbf-4807-9e2d-83ccfcc2b65b"
      },
      "outputs": [
        {
          "output_type": "display_data",
          "data": {
            "text/plain": [
              "<Figure size 1800x600 with 1 Axes>"
            ],
            "image/png": "[encoded data removed]"
          },
          "metadata": {}
        },
        {
          "output_type": "stream",
          "name": "stdout",
          "text": [
            "\n",
            "\n",
            "\n",
            "Training Western_Medieval images are: 984\n",
            "Training Renaissance images are: 5264\n",
            "Training Rococo images are: 2142\n",
            "Training Realism images are: 4568\n",
            "Training Expressionism images are: 2215\n",
            "Training Japanese_Art images are: 1517\n",
            "Training Symbolism images are: 1283\n",
            "Training Neoclassicism images are: 1762\n",
            "Training Primitivism images are: 99\n",
            "Training Romanticism images are: 5791\n",
            "Training Academic_Art images are: 1109\n",
            "Training Baroque images are: 4515\n",
            "Training Art_Nouveau images are: 2579\n"
          ]
        }
      ],
      "source": [
        "#Looking at data in training part\n",
        "import matplotlib.pyplot as plt\n",
        "import seaborn as sns\n",
        "from matplotlib.image import imread\n",
        "import pathlib\n",
        "\n",
        "image_folder = ['Western_Medieval', 'Renaissance', 'Rococo', 'Realism', 'Expressionism', 'Japanese_Art', 'Symbolism', 'Neoclassicism', 'Primitivism', 'Romanticism', 'Academic_Art', 'Baroque', 'Art_Nouveau']\n",
        "\n",
        "nimgs = {}\n",
        "for i in image_folder:\n",
        "    nimages = len(os.listdir('/content/drive/MyDrive/Art Classifier Dataset/Dataused/train/'+i+'/'))\n",
        "    nimgs[i]=nimages\n",
        "plt.figure(figsize=(18, 6))\n",
        "plt.bar(range(len(nimgs)), list(nimgs.values()), align='center')\n",
        "plt.xticks(range(len(nimgs)), list(nimgs.keys()))\n",
        "plt.title('Distribution of different classes in Training Dataset')\n",
        "plt.show()\n",
        "print(\"\\n\\n\")\n",
        "#print no of images in each category\n",
        "for i in image_folder:\n",
        "    print('Training {} images are: '.format(i)+str(len(os.listdir('/content/drive/MyDrive/Art Classifier Dataset/Dataused/train/'+i+'/'))))"
      ]
    },
    {
      "cell_type": "code",
      "execution_count": 17,
      "metadata": {
        "id": "z_2NVR8AWAli",
        "colab": {
          "base_uri": "https://localhost:8080/",
          "height": 806
        },
        "outputId": "b981cdef-1b06-414d-cdb0-ddaa2b21abcc"
      },
      "outputs": [
        {
          "output_type": "display_data",
          "data": {
            "text/plain": [
              "<Figure size 1800x600 with 1 Axes>"
            ],
            "image/png": "[encoded data removed]"
          },
          "metadata": {}
        },
        {
          "output_type": "stream",
          "name": "stdout",
          "text": [
            "\n",
            "\n",
            "\n",
            "Testing Western_Medieval images are: 174\n",
            "Testing Renaissance images are: 929\n",
            "Testing Rococo images are: 379\n",
            "Testing Realism images are: 807\n",
            "Testing Expressionism images are: 392\n",
            "Testing Japanese_Art images are: 268\n",
            "Testing Symbolism images are: 227\n",
            "Testing Neoclassicism images are: 312\n",
            "Testing Primitivism images are: 18\n",
            "Testing Romanticism images are: 1022\n",
            "Testing Academic_Art images are: 196\n",
            "Testing Baroque images are: 797\n",
            "Testing Art_Nouveau images are: 456\n"
          ]
        }
      ],
      "source": [
        "#Looking data in validation part\n",
        "nimgs = {}\n",
        "for i in image_folder:\n",
        "    nimages = len(os.listdir('/content/drive/MyDrive/Art Classifier Dataset/Dataused/validation/'+i+'/'))\n",
        "    nimgs[i]=nimages\n",
        "plt.figure(figsize=(18, 6))\n",
        "plt.bar(range(len(nimgs)), list(nimgs.values()), align='center')\n",
        "plt.xticks(range(len(nimgs)), list(nimgs.keys()))\n",
        "plt.title('Distribution of different classes in Validation Dataset')\n",
        "plt.show()\n",
        "print(\"\\n\\n\")\n",
        "#print no of images in each category\n",
        "for i in image_folder:\n",
        "    print('Testing {} images are: '.format(i)+str(len(os.listdir('/content/drive/MyDrive/Art Classifier Dataset/Dataused/validation/'+i+'/'))))"
      ]
    },
    {
      "cell_type": "markdown",
      "metadata": {
        "id": "MwdlOeXAZziH"
      },
      "source": [
        "Removing Dodgy Images"
      ]
    },
    {
      "cell_type": "code",
      "execution_count": null,
      "metadata": {
        "id": "FOMovMzmZ5It"
      },
      "outputs": [],
      "source": [
        "import cv2\n",
        "import imghdr"
      ]
    },
    {
      "cell_type": "code",
      "execution_count": null,
      "metadata": {
        "id": "kapAXdUdZ9Mf"
      },
      "outputs": [],
      "source": [
        "data_dir = 'Your_Data_Path'\n",
        "image_exts = ['jpeg','jpg', 'bmp', 'png']"
      ]
    },
    {
      "cell_type": "code",
      "execution_count": null,
      "metadata": {
        "id": "tWL3Gu1ZaH7P"
      },
      "outputs": [],
      "source": [
        "for image_class in os.listdir(data_dir):\n",
        "    for image in os.listdir(os.path.join(data_dir, image_class)):\n",
        "        image_path = os.path.join(data_dir, image_class, image)\n",
        "        try:\n",
        "            img = cv2.imread(image_path)\n",
        "            tip = imghdr.what(image_path)\n",
        "            if tip not in image_exts:\n",
        "                print('Image not in ext list {}'.format(image_path))\n",
        "                os.remove(image_path)\n",
        "        except Exception as e:\n",
        "            print('Issue with image {}'.format(image_path))\n",
        "            # os.remove(image_path)"
      ]
    },
    {
      "cell_type": "markdown",
      "metadata": {
        "id": "j3w7CrPEYFYQ"
      },
      "source": [
        "Deep Learning Section"
      ]
    },
    {
      "cell_type": "code",
      "execution_count": 3,
      "metadata": {
        "id": "uZkBC8mnYeeZ"
      },
      "outputs": [],
      "source": [
        "#import deep learning based modules\n",
        "import tensorflow as tf\n",
        "from tensorflow.keras.optimizers import Adam\n",
        "from tensorflow.keras.preprocessing.image import ImageDataGenerator\n",
        "from tensorflow.keras.layers import Conv2D, MaxPooling2D, Flatten, Dense, Dropout\n",
        "from tensorflow.keras.models import Sequential\n",
        "from tensorflow.keras.callbacks import EarlyStopping, ModelCheckpoint"
      ]
    },
    {
      "cell_type": "code",
      "execution_count": 15,
      "metadata": {
        "id": "Z0yS0BIxAzzd",
        "colab": {
          "base_uri": "https://localhost:8080/"
        },
        "outputId": "4a3d414c-f2d8-4b4b-db8b-d2414bb1d6ef"
      },
      "outputs": [
        {
          "output_type": "execute_result",
          "data": {
            "text/plain": [
              "1"
            ]
          },
          "metadata": {},
          "execution_count": 15
        }
      ],
      "source": [
        "#Check if gpu is allocated\n",
        "gpus = tf.config.experimental.list_physical_devices('GPU')\n",
        "len(gpus)"
      ]
    },
    {
      "cell_type": "code",
      "execution_count": 14,
      "metadata": {
        "id": "nRDbWPpiAMGY"
      },
      "outputs": [],
      "source": [
        "#Limit gpu usage to reasonable level and avoid OOM errors\n",
        "\n",
        "# List available physical GPUs\n",
        "gpus = tf.config.experimental.list_physical_devices('GPU')\n",
        "\n",
        "# Set memory growth for each GPU\n",
        "for gpu in gpus:\n",
        "    tf.config.experimental.set_memory_growth(gpu, True)"
      ]
    },
    {
      "cell_type": "code",
      "execution_count": 6,
      "metadata": {
        "id": "Riz47ijyd729"
      },
      "outputs": [],
      "source": [
        "#Setting image height and width and batch size\n",
        "img_width=256; img_height=256\n",
        "batch_size=512"
      ]
    },
    {
      "cell_type": "code",
      "execution_count": 12,
      "metadata": {
        "id": "GBpAlw1Jenxa",
        "colab": {
          "base_uri": "https://localhost:8080/"
        },
        "outputId": "246bb5a9-b0b3-4152-dd6e-85876423b0cb"
      },
      "outputs": [
        {
          "output_type": "stream",
          "name": "stdout",
          "text": [
            "Found 33828 images belonging to 13 classes.\n"
          ]
        }
      ],
      "source": [
        "#set training directory path and create a pipeline as datagen\n",
        "TRAINING_DIR = '/content/drive/MyDrive/Art Classifier Dataset/Dataused/train/'\n",
        "\n",
        "train_datagen = ImageDataGenerator(rescale = 1/255.0,\n",
        "                                   rotation_range=30,\n",
        "                                   zoom_range=0.4,\n",
        "                                   horizontal_flip=True)\n",
        "\n",
        "train_generator = train_datagen.flow_from_directory(TRAINING_DIR,\n",
        "                                                    batch_size=batch_size,\n",
        "                                                    class_mode='categorical',\n",
        "                                                    target_size=(img_height, img_width)\n",
        "                                                    )"
      ]
    },
    {
      "cell_type": "code",
      "execution_count": 13,
      "metadata": {
        "colab": {
          "base_uri": "https://localhost:8080/"
        },
        "id": "D9NYdo90fHK0",
        "outputId": "58480244-0ce7-4769-da3b-df8d2e31e5d8"
      },
      "outputs": [
        {
          "output_type": "stream",
          "name": "stdout",
          "text": [
            "Found 5977 images belonging to 13 classes.\n"
          ]
        }
      ],
      "source": [
        "#Set validation directory path and pipeline\n",
        "VALIDATION_DIR = '/content/drive/MyDrive/Art Classifier Dataset/Dataused/validation/'\n",
        "\n",
        "validation_datagen = ImageDataGenerator(rescale = 1/255.0)\n",
        "\n",
        "validation_generator = validation_datagen.flow_from_directory(VALIDATION_DIR,\n",
        "                                                              batch_size=batch_size,\n",
        "                                                              class_mode='categorical',\n",
        "                                                              target_size=(img_height, img_width)\n",
        "                                                             )"
      ]
    },
    {
      "cell_type": "code",
      "execution_count": 18,
      "metadata": {
        "id": "flh2sn9ChKoY"
      },
      "outputs": [],
      "source": [
        "#Preventing overfitting using Earlystopping and saving best model using ModelCheckpoint\n",
        "early_stopping = EarlyStopping(monitor='val_loss', patience=5, verbose=1, mode='auto')\n",
        "# autosave best Model in location :\n",
        "best_model_file = '/content/drive/MyDrive/Art Classifier Dataset/Best_Models/CNN_aug_best_weights.h5'\n",
        "best_model = ModelCheckpoint(best_model_file, monitor='val_acc', verbose = 1, save_best_only = True)"
      ]
    },
    {
      "cell_type": "code",
      "execution_count": 19,
      "metadata": {
        "id": "PJXkt-bci0f1",
        "colab": {
          "base_uri": "https://localhost:8080/"
        },
        "outputId": "07dd8d45-03f3-422f-bdc3-f1b4aa75c64c"
      },
      "outputs": [
        {
          "output_type": "stream",
          "name": "stdout",
          "text": [
            "Model: \"sequential_1\"\n",
            "_________________________________________________________________\n",
            " Layer (type)                Output Shape              Param #   \n",
            "=================================================================\n",
            " conv2d_9 (Conv2D)           (None, 254, 254, 16)      448       \n",
            "                                                                 \n",
            " max_pooling2d_5 (MaxPoolin  (None, 127, 127, 16)      0         \n",
            " g2D)                                                            \n",
            "                                                                 \n",
            " conv2d_10 (Conv2D)          (None, 125, 125, 32)      4640      \n",
            "                                                                 \n",
            " max_pooling2d_6 (MaxPoolin  (None, 62, 62, 32)        0         \n",
            " g2D)                                                            \n",
            "                                                                 \n",
            " conv2d_11 (Conv2D)          (None, 60, 60, 64)        18496     \n",
            "                                                                 \n",
            " conv2d_12 (Conv2D)          (None, 58, 58, 64)        36928     \n",
            "                                                                 \n",
            " max_pooling2d_7 (MaxPoolin  (None, 29, 29, 64)        0         \n",
            " g2D)                                                            \n",
            "                                                                 \n",
            " conv2d_13 (Conv2D)          (None, 27, 27, 128)       73856     \n",
            "                                                                 \n",
            " conv2d_14 (Conv2D)          (None, 25, 25, 128)       147584    \n",
            "                                                                 \n",
            " max_pooling2d_8 (MaxPoolin  (None, 12, 12, 128)       0         \n",
            " g2D)                                                            \n",
            "                                                                 \n",
            " conv2d_15 (Conv2D)          (None, 10, 10, 256)       295168    \n",
            "                                                                 \n",
            " conv2d_16 (Conv2D)          (None, 8, 8, 256)         590080    \n",
            "                                                                 \n",
            " conv2d_17 (Conv2D)          (None, 6, 6, 256)         590080    \n",
            "                                                                 \n",
            " max_pooling2d_9 (MaxPoolin  (None, 3, 3, 256)         0         \n",
            " g2D)                                                            \n",
            "                                                                 \n",
            " flatten_1 (Flatten)         (None, 2304)              0         \n",
            "                                                                 \n",
            " dense_3 (Dense)             (None, 512)               1180160   \n",
            "                                                                 \n",
            " dense_4 (Dense)             (None, 512)               262656    \n",
            "                                                                 \n",
            " dense_5 (Dense)             (None, 13)                6669      \n",
            "                                                                 \n",
            "=================================================================\n",
            "Total params: 3206765 (12.23 MB)\n",
            "Trainable params: 3206765 (12.23 MB)\n",
            "Non-trainable params: 0 (0.00 Byte)\n",
            "_________________________________________________________________\n"
          ]
        }
      ],
      "source": [
        "#********************Convulation Neural Network Training starts here********************\n",
        "#CNN structure NOTE:last dense layer value must match number of classes,ie=13\n",
        "model = Sequential([\n",
        "    Conv2D(16, (3, 3), activation='relu', input_shape=(img_height, img_width, 3)), MaxPooling2D(2, 2),\n",
        "    Conv2D(32, (3, 3), activation='relu'), MaxPooling2D(2, 2),\n",
        "    Conv2D(64, (3, 3), activation='relu'),\n",
        "    Conv2D(64, (3, 3), activation='relu'),\n",
        "    MaxPooling2D(2, 2),\n",
        "    Conv2D(128, (3, 3), activation='relu'),\n",
        "    Conv2D(128, (3, 3), activation='relu'),\n",
        "    MaxPooling2D(2, 2),\n",
        "    Conv2D(256, (3, 3), activation='relu'),\n",
        "    Conv2D(256, (3, 3), activation='relu'),\n",
        "    Conv2D(256, (3, 3), activation='relu'),\n",
        "    MaxPooling2D(2, 2),\n",
        "    Flatten(),\n",
        "    Dense(512, activation='relu'),\n",
        "    Dense(512, activation='relu'),\n",
        "    Dense(13, activation='softmax')\n",
        "])\n",
        "model.summary()"
      ]
    },
    {
      "cell_type": "code",
      "execution_count": 20,
      "metadata": {
        "id": "SSbzUWn1j2rt"
      },
      "outputs": [],
      "source": [
        "#Compiling model\n",
        "model.compile(optimizer='Adam',\n",
        "              loss='categorical_crossentropy',\n",
        "              metrics =['accuracy'])"
      ]
    },
    {
      "cell_type": "code",
      "execution_count": null,
      "metadata": {
        "id": "tzAAta5ekrzw"
      },
      "outputs": [],
      "source": [
        "#This part is actually training of model and takes long time consider before running\n",
        "#here we start with moderate epoch of 50 or 100\n",
        "history = model.fit(train_generator,\n",
        "                              epochs=20,\n",
        "                              verbose=1,\n",
        "                              validation_data=validation_generator,\n",
        "                              callbacks = [early_stopping,best_model]\n",
        "                              )"
      ]
    }
  ],
  "metadata": {
    "accelerator": "GPU",
    "colab": {
      "provenance": [],
      "gpuType": "T4",
      "mount_file_id": "18VjCFDThvzWknwq0gjQdQpvfzSo2Ry1B",
      "authorship_tag": "ABX9TyPRznJzwy3XGxX9Rk+aDOTk",
      "include_colab_link": true
    },
    "kernelspec": {
      "display_name": "Python 3",
      "name": "python3"
    },
    "language_info": {
      "name": "python"
    }
  },
  "nbformat": 4,
  "nbformat_minor": 0
}